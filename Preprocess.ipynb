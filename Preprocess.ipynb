{
  "nbformat": 4,
  "nbformat_minor": 0,
  "metadata": {
    "colab": {
      "provenance": [],
      "authorship_tag": "ABX9TyPq2P8ecVOJf/PPNyJR7wD7",
      "include_colab_link": true
    },
    "kernelspec": {
      "name": "python3",
      "display_name": "Python 3"
    },
    "language_info": {
      "name": "python"
    }
  },
  "cells": [
    {
      "cell_type": "markdown",
      "metadata": {
        "id": "view-in-github",
        "colab_type": "text"
      },
      "source": [
        "<a href=\"https://colab.research.google.com/github/MuhtasimMahadi/Muhtasim_Hossain/blob/main/Preprocess.ipynb\" target=\"_parent\"><img src=\"https://colab.research.google.com/assets/colab-badge.svg\" alt=\"Open In Colab\"/></a>"
      ]
    },
    {
      "cell_type": "code",
      "execution_count": null,
      "metadata": {
        "id": "gBaX_zaw7M2t"
      },
      "outputs": [],
      "source": [
        "import cv2\n",
        "import os\n",
        "from tqdm import tqdm  # Optional, for progress tracking\n"
      ]
    },
    {
      "cell_type": "code",
      "source": [
        "def apply_histogram_equalization(image_path):\n",
        "    img = cv2.imread(image_path, cv2.IMREAD_GRAYSCALE)\n",
        "    equalized_img = cv2.equalizeHist(img)\n",
        "    cv2.imwrite(image_path, equalized_img)\n"
      ],
      "metadata": {
        "id": "-D4HKrID7wJb"
      },
      "execution_count": null,
      "outputs": []
    },
    {
      "cell_type": "code",
      "source": [
        "dataset_path = \"/content/drive/MyDrive/titl_defence/datatset/slpit dataset/test\"\n",
        "\n",
        "for root, dirs, files in os.walk(dataset_path):\n",
        "    for file in tqdm(files, desc=\"Applying Histogram Equalization\"):\n",
        "        if file.endswith(('.jpg', '.png', '.jpeg')):  # Adjust file extensions as needed\n",
        "            image_path = os.path.join(root, file)\n",
        "            apply_histogram_equalization(image_path)\n"
      ],
      "metadata": {
        "colab": {
          "base_uri": "https://localhost:8080/"
        },
        "id": "lB5zEyti8DGu",
        "outputId": "7e110db3-d90d-484e-884f-14ea1996bd42"
      },
      "execution_count": null,
      "outputs": [
        {
          "output_type": "stream",
          "name": "stderr",
          "text": [
            "Applying Histogram Equalization: 0it [00:00, ?it/s]\n",
            "Applying Histogram Equalization: 100%|██████████| 200/200 [00:15<00:00, 13.11it/s]\n",
            "Applying Histogram Equalization: 100%|██████████| 240/240 [00:10<00:00, 23.02it/s]\n",
            "Applying Histogram Equalization: 100%|██████████| 300/300 [00:07<00:00, 42.18it/s]\n"
          ]
        }
      ]
    },
    {
      "cell_type": "code",
      "source": [
        "dataset_path = \"/content/drive/MyDrive/titl_defence/datatset/slpit dataset/train\"\n",
        "\n",
        "for root, dirs, files in os.walk(dataset_path):\n",
        "    for file in tqdm(files, desc=\"Applying Histogram Equalization\"):\n",
        "        if file.endswith(('.jpg', '.png', '.jpeg')):  # Adjust file extensions as needed\n",
        "            image_path = os.path.join(root, file)\n",
        "            apply_histogram_equalization(image_path)\n"
      ],
      "metadata": {
        "colab": {
          "base_uri": "https://localhost:8080/"
        },
        "id": "MsJX_3Yk8Ilk",
        "outputId": "90dd5731-d037-4b08-a7d7-e5a3d6d73531"
      },
      "execution_count": null,
      "outputs": [
        {
          "output_type": "stream",
          "name": "stderr",
          "text": [
            "Applying Histogram Equalization: 0it [00:00, ?it/s]\n",
            "Applying Histogram Equalization: 100%|██████████| 1050/1050 [00:28<00:00, 36.75it/s]\n",
            "Applying Histogram Equalization: 100%|██████████| 840/840 [00:44<00:00, 18.96it/s]\n",
            "Applying Histogram Equalization: 100%|██████████| 700/700 [01:00<00:00, 11.54it/s]\n"
          ]
        }
      ]
    },
    {
      "cell_type": "code",
      "source": [
        "dataset_path = \"/content/drive/MyDrive/titl_defence/datatset/slpit dataset/val\"\n",
        "\n",
        "for root, dirs, files in os.walk(dataset_path):\n",
        "    for file in tqdm(files, desc=\"Applying Histogram Equalization\"):\n",
        "        if file.endswith(('.jpg', '.png', '.jpeg')):  # Adjust file extensions as needed\n",
        "            image_path = os.path.join(root, file)\n",
        "            apply_histogram_equalization(image_path)\n"
      ],
      "metadata": {
        "colab": {
          "base_uri": "https://localhost:8080/"
        },
        "id": "TuGK2Fue8JTd",
        "outputId": "be9d864b-add4-40d9-d216-878aa7ae8c0b"
      },
      "execution_count": null,
      "outputs": [
        {
          "output_type": "stream",
          "name": "stderr",
          "text": [
            "Applying Histogram Equalization: 0it [00:00, ?it/s]\n",
            "Applying Histogram Equalization: 100%|██████████| 150/150 [00:03<00:00, 43.06it/s]\n",
            "Applying Histogram Equalization: 100%|██████████| 100/100 [00:08<00:00, 11.91it/s]\n",
            "Applying Histogram Equalization: 100%|██████████| 120/120 [00:06<00:00, 17.52it/s]\n"
          ]
        }
      ]
    },
    {
      "cell_type": "code",
      "source": [
        "import cv2\n",
        "import os\n",
        "from tqdm import tqdm  # Optional, for progress tracking\n",
        "import numpy as np\n"
      ],
      "metadata": {
        "id": "E9n_lOYg8xw3"
      },
      "execution_count": null,
      "outputs": []
    },
    {
      "cell_type": "code",
      "source": [
        "def apply_gamma_correction(image_path, gamma=1.5):\n",
        "    img = cv2.imread(image_path)\n",
        "    img = img / 255.0  # Normalize pixel values to the range [0, 1]\n",
        "    corrected_img = np.power(img, gamma)\n",
        "    corrected_img = (corrected_img * 255).astype(np.uint8)\n",
        "    cv2.imwrite(image_path, corrected_img)\n"
      ],
      "metadata": {
        "id": "w55CM1Q38zff"
      },
      "execution_count": null,
      "outputs": []
    },
    {
      "cell_type": "code",
      "source": [
        "dataset_path = \"/content/drive/MyDrive/titl_defence/datatset/slpit dataset/test\"\n",
        "gamma_value = 1.5  # Adjust gamma value as needed\n",
        "\n",
        "for root, dirs, files in os.walk(dataset_path):\n",
        "    for file in tqdm(files, desc=\"Applying Gamma Correction\"):\n",
        "        if file.endswith(('.jpg', '.png', '.jpeg')):  # Adjust file extensions as needed\n",
        "            image_path = os.path.join(root, file)\n",
        "            apply_gamma_correction(image_path, gamma=gamma_value)\n"
      ],
      "metadata": {
        "colab": {
          "base_uri": "https://localhost:8080/"
        },
        "id": "7HJze9Vf81In",
        "outputId": "a0fa2437-adf1-498a-b975-e307cc3ecd33"
      },
      "execution_count": null,
      "outputs": [
        {
          "output_type": "stream",
          "name": "stderr",
          "text": [
            "Applying Gamma Correction: 0it [00:00, ?it/s]\n",
            "Applying Gamma Correction: 100%|██████████| 200/200 [01:06<00:00,  3.03it/s]\n",
            "Applying Gamma Correction: 100%|██████████| 240/240 [00:34<00:00,  6.99it/s]\n",
            "Applying Gamma Correction: 100%|██████████| 300/300 [00:07<00:00, 41.33it/s]\n"
          ]
        }
      ]
    },
    {
      "cell_type": "code",
      "source": [
        "dataset_path = \"/content/drive/MyDrive/titl_defence/datatset/slpit dataset/train\"\n",
        "gamma_value = 1.5  # Adjust gamma value as needed\n",
        "\n",
        "for root, dirs, files in os.walk(dataset_path):\n",
        "    for file in tqdm(files, desc=\"Applying Gamma Correction\"):\n",
        "        if file.endswith(('.jpg', '.png', '.jpeg')):  # Adjust file extensions as needed\n",
        "            image_path = os.path.join(root, file)\n",
        "            apply_gamma_correction(image_path, gamma=gamma_value)\n"
      ],
      "metadata": {
        "colab": {
          "base_uri": "https://localhost:8080/"
        },
        "id": "zp6rZX-C82-_",
        "outputId": "d1ea144b-6b61-4622-85f2-9ba420dc5765"
      },
      "execution_count": null,
      "outputs": [
        {
          "output_type": "stream",
          "name": "stderr",
          "text": [
            "Applying Gamma Correction: 0it [00:00, ?it/s]\n",
            "Applying Gamma Correction: 100%|██████████| 1050/1050 [00:27<00:00, 37.78it/s]\n",
            "Applying Gamma Correction: 100%|██████████| 840/840 [02:13<00:00,  6.27it/s]\n",
            "Applying Gamma Correction: 100%|██████████| 700/700 [03:33<00:00,  3.28it/s]\n"
          ]
        }
      ]
    },
    {
      "cell_type": "code",
      "source": [
        "dataset_path = \"/content/drive/MyDrive/titl_defence/datatset/slpit dataset/val\"\n",
        "gamma_value = 1.5  # Adjust gamma value as needed\n",
        "\n",
        "for root, dirs, files in os.walk(dataset_path):\n",
        "    for file in tqdm(files, desc=\"Applying Gamma Correction\"):\n",
        "        if file.endswith(('.jpg', '.png', '.jpeg')):  # Adjust file extensions as needed\n",
        "            image_path = os.path.join(root, file)\n",
        "            apply_gamma_correction(image_path, gamma=gamma_value)\n"
      ],
      "metadata": {
        "colab": {
          "base_uri": "https://localhost:8080/"
        },
        "id": "vlY-0Bei83km",
        "outputId": "8a55383c-871b-4331-e447-0bb2e9a5045a"
      },
      "execution_count": null,
      "outputs": [
        {
          "output_type": "stream",
          "name": "stderr",
          "text": [
            "Applying Gamma Correction: 0it [00:00, ?it/s]\n",
            "Applying Gamma Correction: 100%|██████████| 150/150 [00:03<00:00, 45.82it/s]\n",
            "Applying Gamma Correction: 100%|██████████| 100/100 [00:35<00:00,  2.82it/s]\n",
            "Applying Gamma Correction: 100%|██████████| 120/120 [00:24<00:00,  4.86it/s]\n"
          ]
        }
      ]
    },
    {
      "cell_type": "code",
      "source": [
        "import cv2\n",
        "import os\n",
        "\n",
        "def histogram_equalization_rgb(image):\n",
        "    # Convert image to LAB color space\n",
        "    lab = cv2.cvtColor(image, cv2.COLOR_RGB2LAB)\n",
        "\n",
        "    # Separate the LAB channels\n",
        "    l, a, b = cv2.split(lab)\n",
        "\n",
        "    # Apply histogram equalization to the L channel\n",
        "    l_eq = cv2.equalizeHist(l)\n",
        "\n",
        "    # Merge the equalized L channel with the original A and B channels\n",
        "    lab_eq = cv2.merge([l_eq, a, b])\n",
        "\n",
        "    # Convert back to RGB color space\n",
        "    image_eq = cv2.cvtColor(lab_eq, cv2.COLOR_LAB2RGB)\n",
        "\n",
        "    return image_eq\n",
        "\n",
        "def apply_histogram_equalization_to_dataset(input_dir, output_dir):\n",
        "    # Ensure the output directory exists\n",
        "    if not os.path.exists(output_dir):\n",
        "        os.makedirs(output_dir)\n",
        "\n",
        "    # Iterate through each image in the input directory\n",
        "    for filename in os.listdir(input_dir):\n",
        "        if filename.endswith(('.jpg', '.png', '.jpeg')):\n",
        "            # Read the image\n",
        "            image_path = os.path.join(input_dir, filename)\n",
        "            original_image = cv2.imread(image_path, cv2.IMREAD_COLOR)\n",
        "            original_image = cv2.cvtColor(original_image, cv2.COLOR_BGR2RGB)\n",
        "\n",
        "            # Apply histogram equalization\n",
        "            equalized_image = histogram_equalization_rgb(original_image)\n",
        "\n",
        "            # Save the equalized image to the output directory\n",
        "            output_path = os.path.join(output_dir, filename)\n",
        "            cv2.imwrite(output_path, cv2.cvtColor(equalized_image, cv2.COLOR_RGB2BGR))\n",
        "\n",
        "# Replace 'input_directory' and 'output_directory' with your actual directory paths\n",
        "input_directory = '/content/drive/MyDrive/titl_defence/datatset/slpit dataset/val/healthy'\n",
        "output_directory = '/content/drive/MyDrive/titl_defence/datatset/slpit dataset/New_val/healthy'\n",
        "\n",
        "# Apply histogram equalization to the dataset\n",
        "apply_histogram_equalization_to_dataset(input_directory, output_directory)\n"
      ],
      "metadata": {
        "id": "Sz9juRRCHx8A"
      },
      "execution_count": 12,
      "outputs": []
    },
    {
      "cell_type": "code",
      "source": [
        "from google.colab import drive\n",
        "drive.mount('/content/drive')"
      ],
      "metadata": {
        "colab": {
          "base_uri": "https://localhost:8080/"
        },
        "id": "pFct-JcyIfQc",
        "outputId": "00557ca1-08ff-40f2-af68-e5d79a1df583"
      },
      "execution_count": 1,
      "outputs": [
        {
          "output_type": "stream",
          "name": "stdout",
          "text": [
            "Mounted at /content/drive\n"
          ]
        }
      ]
    },
    {
      "cell_type": "code",
      "source": [
        "import cv2\n",
        "import os\n",
        "import numpy as np\n",
        "\n",
        "def gamma_correction_rgb(image, gamma=1.0):\n",
        "    # Apply gamma correction to each channel\n",
        "    gamma_corrected = np.power(image / 255.0, gamma) * 255.0\n",
        "    gamma_corrected = np.clip(gamma_corrected, 0, 255).astype(np.uint8)\n",
        "    return gamma_corrected\n",
        "\n",
        "def apply_gamma_correction_to_dataset(root_dir, output_dir, gamma=1.5):\n",
        "    # Ensure the output directory exists\n",
        "    if not os.path.exists(output_dir):\n",
        "        os.makedirs(output_dir)\n",
        "\n",
        "    # Iterate through each class directory\n",
        "    for class_name in os.listdir(root_dir):\n",
        "        class_dir = os.path.join(root_dir, class_name)\n",
        "\n",
        "        # Ensure the class directory is a directory\n",
        "        if os.path.isdir(class_dir):\n",
        "            # Create a subdirectory for the class in the output directory\n",
        "            output_class_dir = os.path.join(output_dir, class_name)\n",
        "            if not os.path.exists(output_class_dir):\n",
        "                os.makedirs(output_class_dir)\n",
        "\n",
        "            # Iterate through each image in the class directory\n",
        "            for filename in os.listdir(class_dir):\n",
        "                if filename.endswith(('.jpg', '.png', '.jpeg')):\n",
        "                    # Read the image\n",
        "                    image_path = os.path.join(class_dir, filename)\n",
        "                    original_image = cv2.imread(image_path, cv2.IMREAD_COLOR)\n",
        "                    original_image = cv2.cvtColor(original_image, cv2.COLOR_BGR2RGB)\n",
        "\n",
        "                    # Apply gamma correction\n",
        "                    gamma_corrected_image = gamma_correction_rgb(original_image, gamma)\n",
        "\n",
        "                    # Save the gamma-corrected image to the output directory\n",
        "                    output_path = os.path.join(output_class_dir, filename)\n",
        "                    cv2.imwrite(output_path, cv2.cvtColor(gamma_corrected_image, cv2.COLOR_RGB2BGR))\n",
        "\n",
        "# Replace 'root_directory' and 'output_directory' with your actual directory paths\n",
        "root_directory = '/content/drive/MyDrive/titl_defence/datatset/slpit dataset/New_test'\n",
        "output_directory = '/content/drive/MyDrive/titl_defence/datatset/slpit dataset/New_test_gamma_corrected'\n",
        "\n",
        "# Specify the gamma value (e.g., 1.5)\n",
        "gamma_value = 1.5\n",
        "\n",
        "# Apply gamma correction to the dataset\n",
        "apply_gamma_correction_to_dataset(root_directory, output_directory, gamma=gamma_value)\n"
      ],
      "metadata": {
        "id": "L1zO-Y75M2MQ"
      },
      "execution_count": 15,
      "outputs": []
    }
  ]
}